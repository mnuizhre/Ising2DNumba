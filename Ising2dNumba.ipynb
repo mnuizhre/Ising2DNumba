{
  "nbformat": 4,
  "nbformat_minor": 0,
  "metadata": {
    "colab": {
      "name": "Ising2dNumba.ipynb",
      "provenance": [],
      "collapsed_sections": [],
      "include_colab_link": true
    },
    "kernelspec": {
      "display_name": "Python 3",
      "language": "python",
      "name": "python3"
    },
    "language_info": {
      "codemirror_mode": {
        "name": "ipython",
        "version": 3
      },
      "file_extension": ".py",
      "mimetype": "text/x-python",
      "name": "python",
      "nbconvert_exporter": "python",
      "pygments_lexer": "ipython3",
      "version": "3.8.5"
    }
  },
  "cells": [
    {
      "cell_type": "markdown",
      "metadata": {
        "id": "view-in-github",
        "colab_type": "text"
      },
      "source": [
        "<a href=\"https://colab.research.google.com/github/joaosds/Ising2DNumba/blob/main/Ising2dNumba.ipynb\" target=\"_parent\"><img src=\"https://colab.research.google.com/assets/colab-badge.svg\" alt=\"Open In Colab\"/></a>"
      ]
    },
    {
      "cell_type": "markdown",
      "metadata": {
        "id": "D4hmIkJ7Ja4W"
      },
      "source": [
        "\n",
        "# Numba Implementation of the Ising 2D with Metropolis Monte Carlo\n",
        "\n",
        "\n",
        "---\n",
        "\n",
        "\n",
        "Abstract: We perform an implementation of the Metropolis Algorithm with the Ising 2D system using the programming language Python and the parallelization package Numba. Physical observables such as the Magnetization, Specific Heat and susceptibility are calculated and compared with the classical phase diagram separating the disordered (paramagnetic) to the ordered state (ferromagnetic).\n",
        "\n",
        "Authors: João Augusto S. S. and Vitor D. Meireles\n",
        "\n",
        "Last modification: 13/04/21\n",
        "\n",
        "---\n",
        "\n",
        "\n",
        "\n",
        "## Monte Carlo and the Metropolis Algorithm\n",
        "\n",
        "### Thermalization, Expectation values and General Remarks\n",
        "\n",
        " The basic idea behind the Monte Carlo technique is to simulate random thermal fluctuations on a specific system from one to state to another over the course of an *experiment*. In this realization, a random sampling is constructed after the *thermalization* of the system for the correct calculation of the physical observables. This thermalization occurs when all our probabilities tend to the equilibrium occupation probabilities of thermodynamics, in general, being represented in the limit $t\\rightarrow\\infty$.\n",
        " \n",
        "To understand how we may calculate them, we begin by reminding the time evolution of a system constitued by a probabilistic combination of states. This is given by the *master equation* $$\\frac{d\\omega_{\\mu}}{dt}=\\sum_{\\nu}\\left[\\omega_{\\nu}\\left(t\\right)R\\left(\\nu\\rightarrow\\mu\\right)-\\left(t\\right)R\\left(\\nu\\rightarrow\\mu\\right)-\\right]$$\n",
        " \n",
        "  After the thermalization of the system, we can calculate a mean over physical observables, the so-called *estimators*. For a quantity $Q$ on a state $\\mu$, $$\\left<Q\\right>=\\sum_{\\mu}Q_{\\mu}P$$\n",
        "\n",
        "### The Ising \n",
        "\n",
        "### Energetics of Ising Hamiltonian\n",
        "\n",
        "From the Ising Hamiltonian, the energy difference $$E_{\\nu}-E_{\\mu}=-J\\sum_{\\left<i,j\\right>}S_{i}^{\\nu}S_{i}^{\\nu}+J\\sum_{\\left<i,j\\right>}S_{i}^{\\mu}S_{i}^{\\mu}=-J\\sum_{\\left<i,j\\right>}S_{i}^{\\mu}\\left(S_{j}^{\\nu}-S_{j}^{\\mu}\\right)$$\n",
        "can be rewritten as $$\\Delta E^{k}_\\left({\\nu-\\mu}\\right) = 2J\\sum_{\\left<k,j\\right>}S_{k}^{\\mu}S_{j}^{\\nu}= 2JS_{k}^{\\mu}\\sum_{\\text{j n.n. to k}}S_{j}^{\\nu}.$$\n",
        "### Magnetization $M\\left(T\\right)$\n",
        "\n",
        "### Specific Heat $C\\left(T\\right)$\n",
        "## Pseudo-Code\n",
        "\n",
        "1.   Initial Configuration: define array $H\\left(N\\right)$ with $N$ random values $s=\\pm 1$ and $\\dim\\left(N\\right)$; -OK\n",
        "\n",
        "\n",
        "2.   Next neighbors table: identify next nearest neighbors and construct an n.n.'s table;\n",
        "\n",
        "3.   Boundary conditions: impose periodic boundaries (system translationally invariant);\n",
        "4.   Initial conditions: Fix $\\beta\\left(T\\right)$ and initial conditions;\n",
        "5.   Set of simulations from $T_{i}$ to $T_{f}$: the last state of $T_{j}$ on the $j\\text{th}$ run is always the initial one of the following $\\left(j+1\\right)\\text{th}$;\n",
        "6.   Generation of state: randomly flip skin on $k\\text{th}$ position.\n",
        "7.   Metropolis rule: \n",
        "*   If $\\Delta E_{\\nu-\\mu}^{k} \\leq0 \\Rightarrow  S_{k} \\rightarrow -S_{k}; $\n",
        "*   If $\\Delta E_{\\nu-\\mu}^{k} \\gt 0:$\n",
        "    *   Calculate $\\mathcal{A}\\left(\\mu\\rightarrow\\nu\\right)=e^{-\\beta\\left(E_{\\nu}-E_{\\mu}\\right)}$. Generate a random $r \\in \\left[0,1\\right]$. If $r\\lt\\mathcal{A}\\left(\\mu\\rightarrow\\nu\\right)\\Rightarrow$ Flip the spin. If not, leave it.\n",
        "\n",
        "\n",
        "\n",
        "\n",
        "\n",
        "\n",
        "\n",
        "\n",
        "\n",
        "\n",
        "\n",
        "\n",
        "\n"
      ]
    },
    {
      "cell_type": "markdown",
      "metadata": {
        "id": "CbENxj9uibJs"
      },
      "source": [
        "\n",
        "\n",
        "---\n",
        "\n",
        "Let's begin by importing the necessary packages for our task."
      ]
    },
    {
      "cell_type": "code",
      "metadata": {
        "id": "bqz-zV3bJV-u"
      },
      "source": [
        "import numpy as np\n",
        "import matplotlib.pyplot as plt\n",
        "from matplotlib import colors\n",
        "from numba import njit\n",
        "import time\n",
        "\n",
        "from matplotlib import rc\n",
        "rc('font',**{'family':'serif','serif':['Helvetica']})\n",
        "rc('text', usetex=True)"
      ],
      "execution_count": null,
      "outputs": []
    },
    {
      "cell_type": "markdown",
      "metadata": {
        "id": "x-GFPfk5ijAn"
      },
      "source": [
        "Following the Pseudo-Code, we need to build the initial lattice with randomly determined spins and check them graphically."
      ]
    },
    {
      "cell_type": "code",
      "metadata": {
        "id": "1LSVq0ID9ZtR",
        "outputId": "aaf3e0a9-5c6f-41d1-e754-202788b41999"
      },
      "source": [
        "def initial_lattice(n):\n",
        "    return np.random.choice([1, -1], size=(n, n))\n",
        "\n",
        "n = 10000\n",
        "nz = 4\n",
        "lattice = initial_lattice(n)\n",
        "\n",
        "# make a color map of fixed colors\n",
        "cmap = colors.ListedColormap(['springgreen', 'purple'])\n",
        "bounds=[-1,0,1]\n",
        "norm = colors.BoundaryNorm(bounds, cmap.N)\n",
        "\n",
        "# tell imshow about color map so that only set colors are used\n",
        "img = plt.matshow(lattice, interpolation='nearest', origin='lower',\n",
        "                    cmap=cmap,norm=norm)\n",
        "\n",
        "# make a color bar\n",
        "plt.colorbar(img, boundaries=bounds, ticks=[-1, 0, 1])\n",
        "\n",
        "print(lattice)\n",
        "%time"
      ],
      "execution_count": null,
      "outputs": [
        {
          "output_type": "stream",
          "text": [
            "[[-1 -1  1 ...  1 -1 -1]\n",
            " [ 1 -1 -1 ... -1  1 -1]\n",
            " [-1  1  1 ... -1  1 -1]\n",
            " ...\n",
            " [-1 -1 -1 ... -1 -1  1]\n",
            " [ 1 -1  1 ...  1  1  1]\n",
            " [-1  1 -1 ...  1  1  1]]\n",
            "CPU times: user 2 µs, sys: 0 ns, total: 2 µs\n",
            "Wall time: 5.01 µs\n"
          ],
          "name": "stdout"
        },
        {
          "output_type": "display_data",
          "data": {
            "image/png": "[encoded data removed]",
            "text/plain": [
              "<Figure size 288x288 with 2 Axes>"
            ]
          },
          "metadata": {
            "tags": [],
            "needs_background": "light"
          }
        }
      ]
    },
    {
      "cell_type": "markdown",
      "metadata": {
        "id": "I_hiPRAhLE0q"
      },
      "source": [
        "The next step is building the proper lattice with the correspondent boundary conditions. We do this following a general approach extensible to any geometrical configuration.  Each site will have a number associated given by the function *lsite*. "
      ]
    },
    {
      "cell_type": "code",
      "metadata": {
        "id": "rtvoqfUsWfc_",
        "outputId": "0de4c5a5-bbff-41ae-ef2d-d8aedfc41cb3"
      },
      "source": [
        "@njit\n",
        "def lsite(x,y):\n",
        "    return x+y*n\n",
        "\n",
        "# Nearest Neighbors definition: Square lattice.\n",
        "@njit\n",
        "def square_ngb(ix,iy):\n",
        "\n",
        "    nsite = np.zeros((nz,2))\n",
        "    \n",
        "#right:\n",
        "    ix0 = ix+1\n",
        "    iy0 = iy\n",
        "    if ix0 > n-1:\n",
        "        ix0 = ix0 - n\n",
        "    nsite[0,0] = ix0\n",
        "    nsite[0,1] = iy0\n",
        "    \n",
        "#left:\n",
        "    ix0 = ix-1\n",
        "    iy0 = iy\n",
        "    if ix0 < 0:\n",
        "        ix0 = ix0 + n\n",
        "    nsite[1,0] = ix0\n",
        "    nsite[1,1] = iy0\n",
        "#up:\n",
        "    ix0 = ix\n",
        "    iy0 = iy+1\n",
        "    if iy0 > n-1:\n",
        "        iy0 = iy0 - n\n",
        "    nsite[2,0] = ix0\n",
        "    nsite[2,1] = iy0\n",
        "#down:\n",
        "    ix0 = ix\n",
        "    iy0 = iy-1\n",
        "    if iy0 < 0:\n",
        "        iy0 = iy0 + n\n",
        "    nsite[3,0] = ix0\n",
        "    nsite[3,1] = iy0\n",
        "\n",
        "    return nsite\n",
        "\n",
        "# Square lattice construction:\n",
        "\n",
        "@njit\n",
        "def neighbors():\n",
        "    ngb = np.zeros((n**2,nz))\n",
        "    \n",
        "    for ix in range(n):\n",
        "        for iy in range(n):\n",
        "            \n",
        "            st = lsite(ix,iy)\n",
        "            \n",
        "            site = square_ngb(ix,iy)\n",
        "            \n",
        "            for m in range(nz):\n",
        "                ngb[st,m] = lsite(site[m,0],site[m,1])\n",
        "    \n",
        "    return ngb\n",
        "\n",
        "neighbors = neighbors()\n",
        "# %time"
      ],
      "execution_count": null,
      "outputs": [
        {
          "output_type": "stream",
          "text": [
            "penis\n"
          ],
          "name": "stdout"
        }
      ]
    },
    {
      "cell_type": "markdown",
      "metadata": {
        "id": "SHjmq-_YLYl7"
      },
      "source": [
        "For the main part of the MC algorithm we now turn our attention to calculate the probabilities and  "
      ]
    },
    {
      "cell_type": "markdown",
      "metadata": {
        "id": "8yf9U7ZpL4qn"
      },
      "source": [
        ""
      ]
    },
    {
      "cell_type": "markdown",
      "metadata": {
        "id": "1iNYvlXQOqZd"
      },
      "source": [
        "# Future Improvements and To-Do List\n",
        "\n",
        "\n",
        "\n",
        "*  Chapter 4 of Barkema: Study of the Wolf Algorithm and other extensions for the Ising example;\n",
        "\n",
        "\n",
        "\n",
        "# References"
      ]
    },
    {
      "cell_type": "code",
      "metadata": {
        "id": "hGLwNIPWWfdC"
      },
      "source": [
        ""
      ],
      "execution_count": null,
      "outputs": []
    }
  ]
}