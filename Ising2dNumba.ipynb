{
  "nbformat": 4,
  "nbformat_minor": 0,
  "metadata": {
    "colab": {
      "name": "Ising2dNumba.ipynb",
      "provenance": [],
      "collapsed_sections": []
    },
    "kernelspec": {
      "name": "python3",
      "display_name": "Python 3"
    },
    "language_info": {
      "name": "python"
    }
  },
  "cells": [
    {
      "cell_type": "markdown",
      "metadata": {
        "id": "D4hmIkJ7Ja4W"
      },
      "source": [
        "\n",
        "# Numba Implementation of the Ising 2D with Metropolis Monte Carlo\n",
        " We perform an implementation of the Metropolis Algorithm with the Ising 2D system using the programming language Python and the parallelization package Numba. Physical observables such as the Magnetization, specific heat and susceptibility are calculated and compared with the classical phase diagram separating the disordered (paramagnetic) to the ordered state(ferromagnetic).\n",
        "\n",
        "## Monte Carlo and the Metropolis Algorithm\n",
        "\n",
        " The basic idea behind the Monte Carlo technique is to simulate random thermal fluctuations on a specific system from one to state to another over the course of an *experiment*. After the thermalization of the system, we can calculate a mean over physical observables, the so-called *estimators*. For a quantity $Q$ on a state $\\mu$, $$\\left<Q\\right>=\\sum_{\\mu}Q_{\\mu}P$$\n",
        "\n",
        "### Energetics of Ising Hamiltonian\n",
        "\n",
        "From the Ising Hamiltonian, the energy difference $$E_{\\nu}-E_{\\mu}=-J\\sum_{\\left<i,j\\right>}S_{i}^{\\nu}S_{i}^{\\nu}+J\\sum_{\\left<i,j\\right>}S_{i}^{\\mu}S_{i}^{\\mu}=-J\\sum_{\\left<i,j\\right>}S_{i}^{\\mu}\\left(S_{j}^{\\nu}-S_{j}^{\\mu}\\right)$$\n",
        "can be rewritten as $$\\Delta E^{k}_\\left({\\nu-\\mu}\\right) = 2J\\sum_{\\left<k,j\\right>}S_{k}^{\\mu}S_{j}^{\\nu}= 2JS_{k}^{\\mu}\\sum_{\\text{j n.n. to k}}S_{j}^{\\nu}.$$\n",
        "### Magnetization $M\\left(T\\right)$\n",
        "\n",
        "### Specific Heat $C\\left(T\\right)$\n",
        "## Pseudo-Code\n",
        "\n",
        "1.   Initial Configuration: define array $H\\left(N\\right)$ with $N$ random values $s=\\pm 1$ and $\\dim\\left(N\\right)$;\n",
        "\n",
        "2.   Next neighbors table: identify next nearest neighbors and construct an n.n.'s table;\n",
        "\n",
        "3.   Boundary conditions: impose periodic boundaries (system translationally invariant);\n",
        "4.   Initial conditions: Fix $\\beta\\left(T\\right)$ and initial conditions;\n",
        "5.   Set of simulations from $T_{i}$ to $T_{f}$: the last state of $T_{j}$ on the $j\\text{th}$ run is always the initial one of the following $\\left(j+1\\right)\\text{th}$;\n",
        "6.   Generation of state: randomly flip skin on $k\\text{th}$ position.\n",
        "7.   Metropolis rule: \n",
        "*   If $\\Delta E_{\\nu-\\mu}^{k} \\leq0 \\Rightarrow  S_{k} \\rightarrow -S_{k}; $\n",
        "*   If $\\Delta E_{\\nu-\\mu}^{k} \\gt 0:$\n",
        "    *   Calculate $\\mathcal{A}\\left(\\mu\\rightarrow\\nu\\right)=e^{-\\beta\\left(E_{\\nu}-E_{\\mu}\\right)}$. Generate a random $r \\in \\left[0,1\\right]$. If $r\\lt\\mathcal{A}\\left(\\mu\\rightarrow\\nu\\right)\\Rightarrow$ Flip the spin. If not, leave it.\n",
        "\n",
        "\n",
        "\n",
        "\n",
        "\n",
        "\n",
        "\n",
        "\n",
        "\n",
        "\n",
        "\n",
        "\n",
        "\n"
      ]
    },
    {
      "cell_type": "markdown",
      "metadata": {
        "id": "CbENxj9uibJs"
      },
      "source": [
        "\n",
        "\n",
        "---\n",
        "\n",
        "Let's begin by importing the necessary packages for our task."
      ]
    },
    {
      "cell_type": "code",
      "metadata": {
        "id": "bqz-zV3bJV-u"
      },
      "source": [
        "import numpy as np\n",
        "import matplotlib.pyplot as plt\n",
        "from numba import njit"
      ],
      "execution_count": 4,
      "outputs": []
    },
    {
      "cell_type": "markdown",
      "metadata": {
        "id": "x-GFPfk5ijAn"
      },
      "source": [
        "Following the Pseudo-Code, we need to build the initial lattice with randomly determined spins."
      ]
    },
    {
      "cell_type": "code",
      "metadata": {
        "id": "OYUNVweD7L4Y"
      },
      "source": [
        "print('teste')"
      ],
      "execution_count": null,
      "outputs": []
    },
    {
      "cell_type": "code",
      "metadata": {
        "id": "1LSVq0ID9ZtR"
      },
      "source": [
        "@njit\n",
        "def initial_lattice():\n",
        "  return print('teste')"
      ],
      "execution_count": 5,
      "outputs": []
    },
    {
      "cell_type": "markdown",
      "metadata": {
        "id": "1iNYvlXQOqZd"
      },
      "source": [
        "# Future Improvements and To-Do List\n",
        "\n",
        "\n",
        "\n",
        "*   \n",
        "*   Study of Wolf Algorithm;\n",
        "\n",
        "\n",
        "\n",
        "# References"
      ]
    }
  ]
}